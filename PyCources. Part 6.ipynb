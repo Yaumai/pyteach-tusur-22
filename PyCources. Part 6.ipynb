{
 "cells": [
  {
   "cell_type": "markdown",
   "metadata": {},
   "source": [
    "# 6. Структуры данных\n",
    "**Структура данных** — программная единица, позволяющая хранить и обрабатывать множество однотипных и/или логически связанных данных в вычислительной технике. Для добавления, поиска, изменения и удаления данных структура данных предоставляет некоторый набор функций, составляющих её интерфейс.\n",
    "\n",
    "В Python существуют четыре встроенных структуры данных: **список, кортеж, словарь и множество**.\n",
    "\n",
    "## 6.1 Списки (list)\n",
    "\n",
    "**Список** – это структура данных, которая содержит упорядоченный набор элементов, т.е. хранит последовательность элементов.\n",
    "\n",
    "**Основные операции**\n",
    "\n",
    "<table style=\"width: 500px;\">\n",
    " <thead style=\"background: #e7e7e7; font-weight: bold;\">\n",
    "    <tr >\n",
    "        <td style=\"text-align: center;\">Операция</td>\n",
    "        <td style=\"text-align: center;\">Интерпретация</td>\n",
    "    </tr>\n",
    "  </thead>\n",
    "   <tbody >\n",
    "    <tr>\n",
    "        <td style=\"text-align: center;\">L = []</td>\n",
    "        <td style=\"text-align: center;\">Пустой список</td>\n",
    "    </tr>\n",
    "    <tr>\n",
    "        <td style=\"text-align: center;\">L = [0, 1, 2, 3]</td>\n",
    "        <td style=\"text-align: center;\">Четыре элемента с индексами 0..3</td>\n",
    "    </tr>\n",
    "    <tr>\n",
    "        <td style=\"text-align: center;\">L = [‘abc’, [‘def’, ghi’]]</td>\n",
    "        <td style=\"text-align: center;\">Вложенные списки</td>\n",
    "    </tr>\n",
    "    <tr>\n",
    "        <td style=\"text-align: center;\">L = list(‘spam’)</td>\n",
    "        <td style=\"text-align: center;\">Создание списка из итерируемого объекта.</td>\n",
    "    </tr>\n",
    "    <tr>\n",
    "        <td style=\"text-align: center;\">L = list(range(-4, 4))</td>\n",
    "        <td style=\"text-align: center;\">Создание списка из непрерывной последовательности целых чисел</td>\n",
    "    </tr>\n",
    "    <tr>\n",
    "        <td style=\"text-align: center;\">L[i]<br/>L[i][j]<br/> L[i:j]<br/> len(L)</td>\n",
    "        <td style=\"text-align: center;\">Индекс, индекс индекса, срез, длина</td>\n",
    "    </tr>\n",
    "    <tr>\n",
    "        <td style=\"text-align: center;\">L1 + L2; L * 3</td>\n",
    "        <td style=\"text-align: center;\">Конкатенация, дублирование</td>\n",
    "    </tr>\n",
    "    <tr>\n",
    "        <td style=\"text-align: center;\">for x in L: print(x)<br/> 3 in L</td>\n",
    "        <td style=\"text-align: center;\">Конкатенация, дублирование</td>\n",
    "    </tr>\n",
    "    <tr>\n",
    "        <td style=\"text-align: center;\">L.append(4)<br/> L.extend([5,6,7])<br/> L.insert(I, X)</td>\n",
    "        <td style=\"text-align: center;\">Методы: добавление элементов в список</td>\n",
    "    </tr>\n",
    "    <tr>\n",
    "        <td style=\"text-align: center;\">L.index(1)<br/> L.count()</td>\n",
    "        <td style=\"text-align: center;\">Методы: поиск</td>\n",
    "    </tr>\n",
    "    <tr>\n",
    "        <td style=\"text-align: center;\">L.sort()<br/> L.reverse()</td>\n",
    "        <td style=\"text-align: center;\">Методы: сортировка, изменение порядка сле- дования элементов на обратный</td>\n",
    "    </tr>\n",
    "    <tr>\n",
    "        <td style=\"text-align: center;\">del L[k]<br/> del L[i:j]<br/> L.pop()<br/> L.remove(2)<br/> L[i:j] = []</td>\n",
    "        <td style=\"text-align: center;\">Уменьшение списка</td>\n",
    "    </tr>\n",
    "    <tr>\n",
    "        <td style=\"text-align: center;\">L[i] = 1<br/> L[i:j] = [4,5,6]</td>\n",
    "        <td style=\"text-align: center;\">Присваивание по индексу, присваивание срезу</td>\n",
    "    </tr>\n",
    "    <tr>\n",
    "        <td style=\"text-align: center;\">L = [x**2 for x in range(5)]<br/> list(map(ord, ‘spam’))</td>\n",
    "        <td style=\"text-align: center;\">Генераторы списков и отображение (главы 14 и 20)</td>\n",
    "    </tr>\n",
    "  </tbody>\n",
    "</table>"
   ]
  },
  {
   "cell_type": "code",
   "execution_count": 27,
   "metadata": {},
   "outputs": [
    {
     "name": "stdout",
     "output_type": "stream",
     "text": [
      "Help on built-in function isdigit:\n",
      "\n",
      "isdigit() method of builtins.str instance\n",
      "    Return True if the string is a digit string, False otherwise.\n",
      "    \n",
      "    A string is a digit string if all characters in the string are digits and there\n",
      "    is at least one character in the string.\n",
      "\n"
     ]
    }
   ],
   "source": [
    "help('1'.isdigit)"
   ]
  },
  {
   "cell_type": "code",
   "execution_count": 10,
   "metadata": {},
   "outputs": [
    {
     "name": "stdout",
     "output_type": "stream",
     "text": [
      "3\n",
      "3\n",
      "[1, 2, 3, 4, 5, 6]\n",
      "['Ni!', 'Ni!', 'Ni!', 'Ni!']\n",
      "3|[1, 2, 3, 4, 5, 6]\n"
     ]
    }
   ],
   "source": [
    "length = len([1, 2, 3])\n",
    "concatination = [1, 2, 3] + [4, 5, 6]\n",
    "repeat = ['Ni!'] * 4\n",
    "\n",
    "print(concatination[2])\n",
    "print(length, concatination, repeat, sep='\\n')\n",
    "print(length, end='|')\n",
    "print(concatination)\n",
    "\n"
   ]
  },
  {
   "cell_type": "code",
   "execution_count": 15,
   "metadata": {},
   "outputs": [
    {
     "name": "stdout",
     "output_type": "stream",
     "text": [
      "Я должен сделать  4 покупок.\n",
      "Покупки: яблоки манго морковь бананы \n",
      "Также нужно купить риса.\n",
      "Теперь мой список покупок таков: ['яблоки', 'манго', 'морковь', 'бананы', 'рис']\n",
      "Отсортирую-ка я свой список\n",
      "shoplist.index('бананы') 3\n",
      "Отсортированный список покупок выглядит так: ['бананы', 'манго', 'морковь', 'рис', 'яблоки']\n",
      "Первое, что мне нужно купить, это бананы\n",
      "Я купил бананы\n",
      "Теперь мой список покупок: ['манго', 'морковь', 'рис', 'яблоки']\n"
     ]
    }
   ],
   "source": [
    "shoplist = ['яблоки', 'манго', 'морковь', 'бананы']\n",
    "\n",
    "print('Я должен сделать ', len(shoplist), 'покупок.')\n",
    "print('Покупки:', end=' ')\n",
    "\n",
    "for item in shoplist:\n",
    "    print(item, end=' ')\n",
    "\n",
    "print('\\nТакже нужно купить риса.') \n",
    "shoplist.append('рис')\n",
    "\n",
    "print('Теперь мой список покупок таков:', shoplist)\n",
    "print('Отсортирую-ка я свой список')\n",
    "print(\"shoplist.index('бананы')\", shoplist.index('бананы'))\n",
    "shoplist.sort()\n",
    "print('Отсортированный список покупок выглядит так:', shoplist)\n",
    "print('Первое, что мне нужно купить, это', shoplist[0])\n",
    "\n",
    "olditem = shoplist[0]\n",
    "del shoplist[0]\n",
    "print('Я купил', olditem)\n",
    "print('Теперь мой список покупок:', shoplist)"
   ]
  },
  {
   "cell_type": "markdown",
   "metadata": {},
   "source": [
    "### Индексы, срезы и матрицы\n"
   ]
  },
  {
   "cell_type": "code",
   "execution_count": 8,
   "metadata": {},
   "outputs": [
    {
     "name": "stdout",
     "output_type": "stream",
     "text": [
      "['spam', 'Spam', 'SPAM']\n",
      "SPAM\n",
      "Spam\n",
      "['Spam', 'SPAM']\n"
     ]
    }
   ],
   "source": [
    "spam = 'spam'\n",
    "elements = [spam, spam.capitalize(), spam.upper()]\n",
    "print(elements)\n",
    "\n",
    "print(elements[2])\n",
    "print(elements[-2])\n",
    "print(elements[1:])"
   ]
  },
  {
   "cell_type": "code",
   "execution_count": 11,
   "metadata": {},
   "outputs": [
    {
     "name": "stdout",
     "output_type": "stream",
     "text": [
      "[4, 5, 6]\n",
      "5\n",
      "7\n"
     ]
    }
   ],
   "source": [
    "matrix = [[1, 2, 3], [4, 5, 6], [7, 8, 9]]\n",
    "matrix = [[1, 2, 3], \n",
    "          [4, 5, 6], \n",
    "          [7, 8, 9]]\n",
    "\n",
    "print(matrix[1])\n",
    "print(matrix[1][1])\n",
    "print(matrix[2][0])"
   ]
  },
  {
   "cell_type": "markdown",
   "metadata": {},
   "source": [
    "### Изменение списка"
   ]
  },
  {
   "cell_type": "code",
   "execution_count": 19,
   "metadata": {},
   "outputs": [
    {
     "name": "stdout",
     "output_type": "stream",
     "text": [
      "['spam', 'filter', 'SPAM']\n",
      "['people', 'need', 'SPAM']\n",
      "['people', 'love', 'Python', 'language', 'and', 'SPAM']\n",
      "['people', 'love', 'Python', 'language']\n"
     ]
    }
   ],
   "source": [
    "spam = 'spam'\n",
    "elements = [spam, spam.capitalize(), spam.upper()]\n",
    "\n",
    "elements[1] = 'filter'\n",
    "print(elements)\n",
    "\n",
    "elements[0:2] = ['people', 'need']\n",
    "print(elements)\n",
    "\n",
    "elements[1:2] = ['love', 'Python', 'language',  'and']\n",
    "print(elements)\n",
    "\n",
    "elements[4:6] = []\n",
    "print(elements)"
   ]
  },
  {
   "cell_type": "markdown",
   "metadata": {},
   "source": [
    "### Методы списков"
   ]
  },
  {
   "cell_type": "code",
   "execution_count": 8,
   "metadata": {},
   "outputs": [
    {
     "name": "stdout",
     "output_type": "stream",
     "text": [
      "['ABD', 'aBe', 'abc']\n",
      "['ABD', 'aBe', 'abc']\n",
      "['abc', 'ABD', 'aBe']\n",
      "['aBe', 'ABD', 'abc']\n",
      "['abe', 'abd', 'abc']\n"
     ]
    }
   ],
   "source": [
    "elements = ['abc', 'ABD', 'aBe']\n",
    "elements.sort()\n",
    "print(elements)\n",
    "\n",
    "elements = ['abc', 'ABD', 'aBe']\n",
    "print(sorted(elements))\n",
    "\n",
    "print(sorted(elements, key=str.lower))\n",
    "print(sorted(elements, key=str.lower, reverse=True))\n",
    "\n",
    "print(sorted([e.lower() for e in elements], reverse=True))"
   ]
  },
  {
   "cell_type": "code",
   "execution_count": 12,
   "metadata": {},
   "outputs": [
    {
     "name": "stdout",
     "output_type": "stream",
     "text": [
      "[1, 2]\n",
      "[1]\n",
      "[1, 2]\n"
     ]
    }
   ],
   "source": [
    "elements = []\n",
    "\n",
    "elements.append(1)\n",
    "elements.append(2)\n",
    "print(elements)\n",
    "\n",
    "elements.pop()\n",
    "print(elements)\n",
    "\n",
    "elements = [1, 2, 3]\n",
    "elements.pop(2)\n",
    "print(elements)"
   ]
  },
  {
   "cell_type": "code",
   "execution_count": 5,
   "metadata": {},
   "outputs": [
    {
     "name": "stdout",
     "output_type": "stream",
     "text": [
      "1 -> ['I', 'love', 'Python']\n",
      "2 -> 1\n",
      "3 -> ['I', 'do', 'love', 'Python']\n",
      "4 -> ['I', 'love', 'Python']\n",
      "5.1 -> ['I', 'love', 'super', 'Python']\n",
      "5.2 -> ['I', 'love', 'Python']\n",
      "6 -> ['Already']\n",
      "7 -> [[]]\n"
     ]
    }
   ],
   "source": [
    "elements = 'I love Python'.split()\n",
    "print(1, elements, sep=' -> ')\n",
    "\n",
    "print(2, elements.index('love'), sep=' -> ')\n",
    "\n",
    "elements.insert(1, 'do')\n",
    "print(3, elements, sep=' -> ')\n",
    "\n",
    "elements.remove('do')\n",
    "print(4, elements, sep=' -> ')\n",
    "\n",
    "elements.insert(2, 'super')\n",
    "print(5.1, elements, sep=' -> ')\n",
    "del elements[2]\n",
    "print(5.2, elements, sep=' -> ')\n",
    "\n",
    "elements = ['Already', 'got', 'one']\n",
    "elements[1:] = []\n",
    "print(6, elements, sep=' -> ')\n",
    "\n",
    "elements[0] = []\n",
    "print(7, elements, sep=' -> ')\n"
   ]
  },
  {
   "cell_type": "markdown",
   "metadata": {},
   "source": [
    "## 6.2 Кортежи (tuple)\n",
    "\n",
    "Кортежи служат для хранения нескольких объектов вместе. Их можно рассматривать как аналог списков, но без такой обширной функциональности, которую предоставляет **класс списка**. Одна из важнейших особенностей кортежей заключается в том, что они **неизменяемы**, так же, как и строки.\n",
    "\n",
    "Кортежи обозначаются указанием элементов, разделённых запятыми; по желанию их можно ещё заключить в круглые скобки."
   ]
  },
  {
   "cell_type": "code",
   "execution_count": 11,
   "metadata": {},
   "outputs": [
    {
     "name": "stdout",
     "output_type": "stream",
     "text": [
      "Количество животных в зоопарке = 3\n",
      "Количество клеток в зоопарке - 3\n",
      "Все животные в новом зоопарке: ('обезьяна', 'верблюд', ('питон', 'слон', 'пингвин'))\n",
      "Животные, привезённые из старого зоопарка: ('питон', 'слон', 'пингвин')\n",
      "Последнее животное, привезённое из старого зоопарка - пингвин\n"
     ]
    }
   ],
   "source": [
    "zoo = ('питон', 'слон', 'пингвин')\n",
    "zoo = 'питон', 'слон', 'пингвин'\n",
    "print('Количество животных в зоопарке =', len(zoo))\n",
    "\n",
    "new_zoo = 'обезьяна', 'верблюд', zoo\n",
    "print('Количество клеток в зоопарке -', len(new_zoo))\n",
    "print('Все животные в новом зоопарке:', new_zoo)\n",
    "print('Животные, привезённые из старого зоопарка:', new_zoo[2]) \n",
    "print('Последнее животное, привезённое из старого зоопарка -', new_zoo[2][2])"
   ]
  },
  {
   "cell_type": "code",
   "execution_count": 17,
   "metadata": {},
   "outputs": [
    {
     "name": "stdout",
     "output_type": "stream",
     "text": [
      "(1,)\n",
      "1 2 3\n",
      "(1, 2, 3)\n"
     ]
    }
   ],
   "source": [
    "elements = (1, )\n",
    "print(elements)\n",
    "\n",
    "print(1, 2, 3)\n",
    "print((1, 2, 3))"
   ]
  },
  {
   "cell_type": "markdown",
   "metadata": {},
   "source": [
    "## 6.3 Enumerate\n"
   ]
  },
  {
   "cell_type": "code",
   "execution_count": 21,
   "metadata": {},
   "outputs": [
    {
     "name": "stdout",
     "output_type": "stream",
     "text": [
      "0 -> Hello\n",
      "1 -> mega\n",
      "2 -> Python\n"
     ]
    }
   ],
   "source": [
    "for i, x in enumerate(['Hello', 'mega', 'Python']):\n",
    "    print(i, x, sep=' -> ')"
   ]
  },
  {
   "cell_type": "markdown",
   "metadata": {},
   "source": [
    "## 6.4 Max, min, sum, all, any"
   ]
  },
  {
   "cell_type": "code",
   "execution_count": 1,
   "metadata": {},
   "outputs": [
    {
     "name": "stdout",
     "output_type": "stream",
     "text": [
      "Max: 3\n",
      "Min: 1\n",
      "Sum: 6\n",
      "All: False\n",
      "Any: True\n"
     ]
    }
   ],
   "source": [
    "print('Max',  max([1, 2, 3]), sep=': ')\n",
    "print('Min',  min([1, 2, 3]), sep=': ')\n",
    "print('Sum',  sum([1, 2, 3]), sep=': ')\n",
    "print('All',  all([0, 1, 2, 3]), sep=': ')\n",
    "print('Any',  any([0, 1, 2, 3]), sep=': ')"
   ]
  },
  {
   "cell_type": "markdown",
   "metadata": {},
   "source": [
    "## 6.5 Zip"
   ]
  },
  {
   "cell_type": "code",
   "execution_count": 4,
   "metadata": {},
   "outputs": [
    {
     "name": "stdout",
     "output_type": "stream",
     "text": [
      "[(1, 'a'), (2, 'b'), (3, 'c')]\n"
     ]
    }
   ],
   "source": [
    "x = (1, 2, 3)\n",
    "y = ('a', 'b', 'c')\n",
    "z = list(zip(x, y))\n",
    "\n",
    "print(z)"
   ]
  },
  {
   "cell_type": "markdown",
   "metadata": {},
   "source": [
    "## 6.6 Itertools \n",
    "https://docs.python.org/3/library/itertools.html"
   ]
  },
  {
   "cell_type": "markdown",
   "metadata": {},
   "source": [
    "# Задачи\n",
    "\n",
    "# 1. Последний с четными\n",
    " **Дано:** список (list) целых чисел (int).\n",
    " \n",
    " **Задание:** нужно найти сумму элементов с четными индексами (0-й, 2-й, 4-й итд), затем перемножить эту сумму и последний элемент исходного массива. \n",
    "\n",
    "     \n",
    " **Пример:**\n",
    " \n",
    "     elements = [0, 1, 2, 3, 4, 5], результат: 30\n",
    "     \n",
    "     elements = [1, 3, 5], результат: 30\n",
    " \n",
    "     elements = [] , результат: 0\n",
    " \n",
    " # 2. Max-min\n",
    " **Дано:**  массив чисел (float или/и int).\n",
    " \n",
    " **Задание:**  нужно найти разницу между самым большим (максимум) и самым малым (минимум) элементом. Если список пуст, то результат равен 0 (ноль).\n",
    " \n",
    " Числа с плавающей точкой представлены в компьютерах как двоичная дробь. Результат проверяется с точностью до третьего знака, как ±0.001\n",
    "\n",
    "     \n",
    " **Пример:**\n",
    " \n",
    "     elements = [1, 2, 3], результат: 2\n",
    "     \n",
    "     elements = [5, -5], результат: 30\n",
    " \n",
    "     elements = [10.2, -2.2, 0, 1.1, 0.5], результат: 12.4\n",
    " \n",
    "     elements = [] , результат: 0\n",
    "     \n",
    " \n",
    " # 3. Умная сортировка\n",
    " **Дано:**  кортеж (tuple) чисел.\n",
    " \n",
    " **Задание:**  необходимо отсортировать их, но отсортировать на основе абсолютных значений в возрастающем порядке. Для примера, последовательность (-20, -5, 10, 15) будет отсортирована следующим образом (-5, 10, 15, -20). Ваша функция должна возвращать список (list) или кортеж (tuple).\n",
    "\n",
    "     \n",
    " **Пример:**\n",
    " \n",
    "     elements = (-20, -5, 10, 15), результат: [-5, 10, 15, -20]\n",
    "     \n",
    "     elements = (1, 2, 3, 0), результат: [0, 1, 2, 3]\n",
    " \n",
    "     elements = (-1, -2, -3, 0), результат: [0, -1, -2, -3]\n",
    " \n",
    " # 4. [Junior] Медиана\n",
    " **Дано:**  кортеж или список чисел.\n",
    " \n",
    " **Задание:**  Медиана - это числовое значение, которое делит сортированый массив чисел на большую и меньшую половины. В сортированом массиве с нечетным числом элементов медиана - это число в середине массива. Для массива с четным числом элементов, где нет одного элемента точно посередине, медиана - это среднее значение двух чисел, находящихся в середине массива. В этой задаче дан непустой массив натуральных чисел. Вам необходимо найти медиану данного массива.\n",
    "\n",
    "     \n",
    " **Пример:**\n",
    " \n",
    "     elements = [1, 2, 3, 4, 5], результат: 3\n",
    "     \n",
    "     elements = [3, 1, 2, 5, 3], результат: 3\n",
    " \n",
    "     elements = [1, 300, 2, 200, 1], результат: 2\n",
    "     \n",
    "     elements = [3, 6, 20, 99, 10, 15], результат: 12.5\n",
    " \n",
    " # [Junior+] 5. Полосатые слова\n",
    " **Дано:**  текст, как строка (str).\n",
    " \n",
    " **Задание:**  Наши Роботы никогда не упускают возможности, чтобы улучшить свои навыки в лингвистике. Сейчас они изучают английский алфавит и что с этим делать.\n",
    "\n",
    "Алфавит разделен на гласные и согласные буквы (да, мы разделили буквы, а не звуки).\n",
    "\n",
    "Гласные -- A E I O U Y\n",
    "\n",
    "Согласные -- B C D F G H J K L M N P Q R S T V W X Z\n",
    "\n",
    "Дан текст с разными словами и/или числами, которые разделены пробелами и знаками пунктуации. Числа не считаются за слова (также как и смесь букв и цифр). Необходимо подсчитать слова, в которых гласные буквы чередуются с согласными (полосатые слова), то есть в таких словах нет двух гласных или двух согласных букв подряд. Слова состоящие из одной буквы - не \"полосатые\" (не считайте их). Регистр букв не имеет значения.\n",
    "\n",
    "     \n",
    " **Пример:**\n",
    " \n",
    "     text = \"My name is ...\", результат: 3\n",
    "     \n",
    "     text = \"Hello world\", результат: 0\n",
    "     \n",
    "     text = \"A quantity of striped words.\", результат: 1\n",
    "     \n",
    "     text = \"Dog,cat,mouse,bird.Human.\", результат: 3\n"
   ]
  }
 ],
 "metadata": {
  "kernelspec": {
   "display_name": "Python 3 (ipykernel)",
   "language": "python",
   "name": "python3"
  },
  "language_info": {
   "codemirror_mode": {
    "name": "ipython",
    "version": 3
   },
   "file_extension": ".py",
   "mimetype": "text/x-python",
   "name": "python",
   "nbconvert_exporter": "python",
   "pygments_lexer": "ipython3",
   "version": "3.10.6"
  }
 },
 "nbformat": 4,
 "nbformat_minor": 4
}
